{
  "nbformat": 4,
  "nbformat_minor": 0,
  "metadata": {
    "colab": {
      "provenance": []
    },
    "kernelspec": {
      "name": "python3",
      "display_name": "Python 3"
    },
    "language_info": {
      "name": "python"
    }
  },
  "cells": [
    {
      "cell_type": "code",
      "execution_count": null,
      "metadata": {
        "id": "FuGZng1jdtyN"
      },
      "outputs": [],
      "source": [
        "import csv\n",
        "import pandas as pd\n",
        "import re\n",
        "from tqdm import tqdm\n",
        "import time\n",
        "\n",
        "index_list=list(range(0,100000))\n",
        "df = pd.read_csv('/content/drive/MyDrive/kmdb_csv.csv', encoding='euc-kr',index_col=False)\n",
        "\n",
        "# 불필요한 열 삭제, 이름 수정, 결측치 처리\n",
        "df=df.drop(['제작국가','제작년도','용도','출연','영화등록번호NO','키워드','영화등록번호ID','영문제명','원제명','유형','제작사','영화심의여부','대표영화심의일','대표영화심의번호','대표영화관람등급','대표개봉일','대표상영시간','최초등록일','최종수정일'],axis=1)\n",
        "df.rename(columns={'각본':'출연'},inplace=True)\n",
        "df.rename(columns={'줄거리':'키워드'},inplace=True)\n",
        "df.rename(columns={'KMDBURL':'줄거리'},inplace=True)\n",
        "df=df.fillna(\"\")\n",
        "\n",
        "# 불필요한 내용 제거 및 split\n",
        "for a in ['장르','출연','키워드']:\n",
        "    for i in range(100000):\n",
        "        if len(df[a][i])>0:\n",
        "            df[a][i]=df[a][i].split(',')\n",
        "# 배우(역활) -> (역활) 제거\n",
        "for i in range(100000):\n",
        "    actors=[]\n",
        "    for actor in df['출연'][i]:\n",
        "        result = re.sub('\\(.+?\\)', '', actor)\n",
        "        actors.append(result)\n",
        "        df['출연'][i]=actors\n",
        "# 영화 중 결측치가 4개 이상인 행 제거\n",
        "for i in tqdm(range(100000)):\n",
        "    count=0\n",
        "    if len(df.loc[i]['장르'])<1:\n",
        "        count=count+1\n",
        "    if len(df.loc[i]['감독'])<1:\n",
        "        count=count+1\n",
        "    if len(df.loc[i]['출연'])<1:\n",
        "        count=count+1\n",
        "    if len(df.loc[i]['키워드'])<1:\n",
        "        count=count+1\n",
        "    if len(df.loc[i]['줄거리'])<1:\n",
        "        count=count+1\n",
        "    if count>1:\n",
        "        df=df.drop([i])\n",
        "df.reset_index(drop=True,inplace=True)\n",
        "\n",
        "!git clone https://github.com/SOMJANG/Mecab-ko-for-Google-Colab.git"
      ]
    },
    {
      "cell_type": "code",
      "source": [
        "cd Mecab-ko-for-Google-Colab"
      ],
      "metadata": {
        "id": "gspMRVa8eFqR"
      },
      "execution_count": null,
      "outputs": []
    },
    {
      "cell_type": "code",
      "source": [
        "!bash install_mecab-ko_on_colab_light_220429.sh"
      ],
      "metadata": {
        "id": "uyOpQJoaeHsP"
      },
      "execution_count": null,
      "outputs": []
    },
    {
      "cell_type": "code",
      "source": [
        "from konlpy.tag import Mecab\n",
        "mecab = Mecab()\n",
        "df['줄거리_pos_tagged'] = df['줄거리'].apply(lambda x: mecab.pos(x))"
      ],
      "metadata": {
        "id": "QrV28zLOeJMD"
      },
      "execution_count": null,
      "outputs": []
    },
    {
      "cell_type": "code",
      "source": [
        "b=[]\n",
        "for ii in range(len(df3['줄거리_pos_tagged'])):\n",
        "    a=[]\n",
        "    for i in df['줄거리_pos_tagged'][ii]:\n",
        "        if len(i[0])>1 and ('NNP' in i[1] or 'NNG' in i[1]):\n",
        "            a.append(i[0])\n",
        "    b.append(a)"
      ],
      "metadata": {
        "id": "uiDrefNKeNFz"
      },
      "execution_count": null,
      "outputs": []
    },
    {
      "cell_type": "code",
      "source": [
        "df['줄거리_fin']=b\n",
        "df=df.drop('줄거리_pos_tagged',axis=1)"
      ],
      "metadata": {
        "id": "4MFhEfF2eQg1"
      },
      "execution_count": null,
      "outputs": []
    },
    {
      "cell_type": "code",
      "source": [
        "for i in range(len(df['감독'])):\n",
        "    df['감독'][i] = re.sub(r'\\?', '', df['감독'][i])"
      ],
      "metadata": {
        "id": "g5cxRm-XedG6"
      },
      "execution_count": null,
      "outputs": []
    }
  ]
}